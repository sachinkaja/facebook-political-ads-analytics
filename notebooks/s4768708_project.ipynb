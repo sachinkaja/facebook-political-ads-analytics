{
 "cells": [
  {
   "cell_type": "code",
   "execution_count": 1,
   "id": "76e3409b-100a-426b-aca7-839231b214e6",
   "metadata": {},
   "outputs": [],
   "source": [
    "# Import statements\n",
    "\n",
    "import pyspark\n",
    "from pyspark.sql import SparkSession, SQLContext\n",
    "from pyspark.sql.functions import col, count, when, year, month, explode, array_contains, lower, array_join, to_date, concat_ws, expr, coalesce, lit\n",
    "import pandas as pd\n",
    "import matplotlib.pyplot as plt\n",
    "import re\n",
    "import string\n",
    "import numpy as np"
   ]
  },
  {
   "cell_type": "code",
   "execution_count": 2,
   "id": "7a3ff018-44ce-4cf9-a498-4ed86e945d2c",
   "metadata": {
    "scrolled": true
   },
   "outputs": [
    {
     "name": "stderr",
     "output_type": "stream",
     "text": [
      "24/05/17 04:56:52 WARN SparkSession: Using an existing Spark session; only runtime SQL configurations will take effect.\n"
     ]
    },
    {
     "data": {
      "text/html": [
       "\n",
       "            <div>\n",
       "                <p><b>SparkSession - hive</b></p>\n",
       "                \n",
       "        <div>\n",
       "            <p><b>SparkContext</b></p>\n",
       "\n",
       "            <p><a href=\"http://master.data7201.emr:4040\">Spark UI</a></p>\n",
       "\n",
       "            <dl>\n",
       "              <dt>Version</dt>\n",
       "                <dd><code>v3.5.0</code></dd>\n",
       "              <dt>Master</dt>\n",
       "                <dd><code>yarn</code></dd>\n",
       "              <dt>AppName</dt>\n",
       "                <dd><code>pyspark-shell</code></dd>\n",
       "            </dl>\n",
       "        </div>\n",
       "        \n",
       "            </div>\n",
       "        "
      ],
      "text/plain": [
       "<pyspark.sql.session.SparkSession at 0x7fffe0553670>"
      ]
     },
     "execution_count": 2,
     "metadata": {},
     "output_type": "execute_result"
    }
   ],
   "source": [
    "# Create or get the spark session\n",
    "\n",
    "spark_session = SparkSession \\\n",
    "    .builder \\\n",
    "    .appName(\"s4768708_project\") \\\n",
    "    .config(\"spark.sql.legacy.timeParserPolicy\", \"LEGACY\") \\\n",
    "    .getOrCreate()\n",
    "\n",
    "spark_session"
   ]
  },
  {
   "cell_type": "code",
   "execution_count": 3,
   "id": "bf986051-74e5-4c9b-9528-489397971659",
   "metadata": {},
   "outputs": [
    {
     "name": "stderr",
     "output_type": "stream",
     "text": [
      "24/05/17 04:57:13 WARN YarnScheduler: Initial job has not accepted any resources; check your cluster UI to ensure that workers are registered and have sufficient resources\n",
      "                                                                                \r"
     ]
    }
   ],
   "source": [
    "# Load the dataset - All files\n",
    "\n",
    "df_load = spark_session.read.json(\"/data/ProjectDatasetFacebookAU/*\")"
   ]
  },
  {
   "cell_type": "code",
   "execution_count": 4,
   "id": "81690f50-d73a-4167-8d6f-d4b4b9c2b213",
   "metadata": {
    "scrolled": true
   },
   "outputs": [],
   "source": [
    "# Drop the duplicate records with respect to 'id' column\n",
    "\n",
    "df_id_unique = df_load.dropDuplicates(subset=['id'])"
   ]
  },
  {
   "cell_type": "code",
   "execution_count": 5,
   "id": "59405208-75a9-4e46-a73e-901b3782d0cf",
   "metadata": {
    "scrolled": true
   },
   "outputs": [
    {
     "name": "stdout",
     "output_type": "stream",
     "text": [
      "\n",
      "Total Count:\n"
     ]
    },
    {
     "name": "stderr",
     "output_type": "stream",
     "text": [
      "24/05/17 04:58:30 WARN SparkStringUtils: Truncated the string representation of a plan since it was too large. This behavior can be adjusted by setting 'spark.sql.debug.maxToStringFields'.\n",
      "[Stage 8:>                                                          (0 + 1) / 1]\r"
     ]
    },
    {
     "name": "stdout",
     "output_type": "stream",
     "text": [
      "2336237\n"
     ]
    },
    {
     "name": "stderr",
     "output_type": "stream",
     "text": [
      "24/05/17 05:01:23 WARN BlockManagerMasterEndpoint: No more replicas available for broadcast_6_piece0 !\n",
      "24/05/17 05:01:23 WARN BlockManagerMaster: Failed to remove broadcast 6 with removeFromMaster = true - org.apache.spark.SparkException: Could not find BlockManagerEndpoint1.\n",
      "\tat org.apache.spark.rpc.netty.Dispatcher.postMessage(Dispatcher.scala:178)\n",
      "\tat org.apache.spark.rpc.netty.Dispatcher.postRemoteMessage(Dispatcher.scala:136)\n",
      "\tat org.apache.spark.rpc.netty.NettyRpcHandler.receive(NettyRpcEnv.scala:683)\n",
      "\tat org.apache.spark.network.server.TransportRequestHandler.processRpcRequest(TransportRequestHandler.java:163)\n",
      "\tat org.apache.spark.network.server.TransportRequestHandler.handle(TransportRequestHandler.java:109)\n",
      "\tat org.apache.spark.network.server.TransportChannelHandler.channelRead0(TransportChannelHandler.java:140)\n",
      "\tat org.apache.spark.network.server.TransportChannelHandler.channelRead0(TransportChannelHandler.java:53)\n",
      "\tat io.netty.channel.SimpleChannelInboundHandler.channelRead(SimpleChannelInboundHandler.java:99)\n",
      "\tat io.netty.channel.AbstractChannelHandlerContext.invokeChannelRead(AbstractChannelHandlerContext.java:444)\n",
      "\tat io.netty.channel.AbstractChannelHandlerContext.invokeChannelRead(AbstractChannelHandlerContext.java:420)\n",
      "\tat io.netty.channel.AbstractChannelHandlerContext.fireChannelRead(AbstractChannelHandlerContext.java:412)\n",
      "\tat io.netty.handler.timeout.IdleStateHandler.channelRead(IdleStateHandler.java:286)\n",
      "\tat io.netty.channel.AbstractChannelHandlerContext.invokeChannelRead(AbstractChannelHandlerContext.java:442)\n",
      "\tat io.netty.channel.AbstractChannelHandlerContext.invokeChannelRead(AbstractChannelHandlerContext.java:420)\n",
      "\tat io.netty.channel.AbstractChannelHandlerContext.fireChannelRead(AbstractChannelHandlerContext.java:412)\n",
      "\tat io.netty.handler.codec.MessageToMessageDecoder.channelRead(MessageToMessageDecoder.java:103)\n",
      "\tat io.netty.channel.AbstractChannelHandlerContext.invokeChannelRead(AbstractChannelHandlerContext.java:444)\n",
      "\tat io.netty.channel.AbstractChannelHandlerContext.invokeChannelRead(AbstractChannelHandlerContext.java:420)\n",
      "\tat io.netty.channel.AbstractChannelHandlerContext.fireChannelRead(AbstractChannelHandlerContext.java:412)\n",
      "\tat org.apache.spark.network.util.TransportFrameDecoder.channelRead(TransportFrameDecoder.java:102)\n",
      "\tat io.netty.channel.AbstractChannelHandlerContext.invokeChannelRead(AbstractChannelHandlerContext.java:444)\n",
      "\tat io.netty.channel.AbstractChannelHandlerContext.invokeChannelRead(AbstractChannelHandlerContext.java:420)\n",
      "\tat io.netty.channel.AbstractChannelHandlerContext.fireChannelRead(AbstractChannelHandlerContext.java:412)\n",
      "\tat io.netty.channel.DefaultChannelPipeline$HeadContext.channelRead(DefaultChannelPipeline.java:1410)\n",
      "\tat io.netty.channel.AbstractChannelHandlerContext.invokeChannelRead(AbstractChannelHandlerContext.java:440)\n",
      "\tat io.netty.channel.AbstractChannelHandlerContext.invokeChannelRead(AbstractChannelHandlerContext.java:420)\n",
      "\tat io.netty.channel.DefaultChannelPipeline.fireChannelRead(DefaultChannelPipeline.java:919)\n",
      "\tat io.netty.channel.nio.AbstractNioByteChannel$NioByteUnsafe.read(AbstractNioByteChannel.java:166)\n",
      "\tat io.netty.channel.nio.NioEventLoop.processSelectedKey(NioEventLoop.java:788)\n",
      "\tat io.netty.channel.nio.NioEventLoop.processSelectedKeysOptimized(NioEventLoop.java:724)\n",
      "\tat io.netty.channel.nio.NioEventLoop.processSelectedKeys(NioEventLoop.java:650)\n",
      "\tat io.netty.channel.nio.NioEventLoop.run(NioEventLoop.java:562)\n",
      "\tat io.netty.util.concurrent.SingleThreadEventExecutor$4.run(SingleThreadEventExecutor.java:997)\n",
      "\tat io.netty.util.internal.ThreadExecutorMap$2.run(ThreadExecutorMap.java:74)\n",
      "\tat io.netty.util.concurrent.FastThreadLocalRunnable.run(FastThreadLocalRunnable.java:30)\n",
      "\tat java.lang.Thread.run(Thread.java:750)\n",
      "\n",
      "java.lang.RuntimeException: org.apache.spark.SparkException: Could not find BlockManagerEndpoint1.\n",
      "\tat org.apache.spark.rpc.netty.Dispatcher.postMessage(Dispatcher.scala:178)\n",
      "\tat org.apache.spark.rpc.netty.Dispatcher.postRemoteMessage(Dispatcher.scala:136)\n",
      "\tat org.apache.spark.rpc.netty.NettyRpcHandler.receive(NettyRpcEnv.scala:683)\n",
      "\tat org.apache.spark.network.server.TransportRequestHandler.processRpcRequest(TransportRequestHandler.java:163)\n",
      "\tat org.apache.spark.network.server.TransportRequestHandler.handle(TransportRequestHandler.java:109)\n",
      "\tat org.apache.spark.network.server.TransportChannelHandler.channelRead0(TransportChannelHandler.java:140)\n",
      "\tat org.apache.spark.network.server.TransportChannelHandler.channelRead0(TransportChannelHandler.java:53)\n",
      "\tat io.netty.channel.SimpleChannelInboundHandler.channelRead(SimpleChannelInboundHandler.java:99)\n",
      "\tat io.netty.channel.AbstractChannelHandlerContext.invokeChannelRead(AbstractChannelHandlerContext.java:444)\n",
      "\tat io.netty.channel.AbstractChannelHandlerContext.invokeChannelRead(AbstractChannelHandlerContext.java:420)\n",
      "\tat io.netty.channel.AbstractChannelHandlerContext.fireChannelRead(AbstractChannelHandlerContext.java:412)\n",
      "\tat io.netty.handler.timeout.IdleStateHandler.channelRead(IdleStateHandler.java:286)\n",
      "\tat io.netty.channel.AbstractChannelHandlerContext.invokeChannelRead(AbstractChannelHandlerContext.java:442)\n",
      "\tat io.netty.channel.AbstractChannelHandlerContext.invokeChannelRead(AbstractChannelHandlerContext.java:420)\n",
      "\tat io.netty.channel.AbstractChannelHandlerContext.fireChannelRead(AbstractChannelHandlerContext.java:412)\n",
      "\tat io.netty.handler.codec.MessageToMessageDecoder.channelRead(MessageToMessageDecoder.java:103)\n",
      "\tat io.netty.channel.AbstractChannelHandlerContext.invokeChannelRead(AbstractChannelHandlerContext.java:444)\n",
      "\tat io.netty.channel.AbstractChannelHandlerContext.invokeChannelRead(AbstractChannelHandlerContext.java:420)\n",
      "\tat io.netty.channel.AbstractChannelHandlerContext.fireChannelRead(AbstractChannelHandlerContext.java:412)\n",
      "\tat org.apache.spark.network.util.TransportFrameDecoder.channelRead(TransportFrameDecoder.java:102)\n",
      "\tat io.netty.channel.AbstractChannelHandlerContext.invokeChannelRead(AbstractChannelHandlerContext.java:444)\n",
      "\tat io.netty.channel.AbstractChannelHandlerContext.invokeChannelRead(AbstractChannelHandlerContext.java:420)\n",
      "\tat io.netty.channel.AbstractChannelHandlerContext.fireChannelRead(AbstractChannelHandlerContext.java:412)\n",
      "\tat io.netty.channel.DefaultChannelPipeline$HeadContext.channelRead(DefaultChannelPipeline.java:1410)\n",
      "\tat io.netty.channel.AbstractChannelHandlerContext.invokeChannelRead(AbstractChannelHandlerContext.java:440)\n",
      "\tat io.netty.channel.AbstractChannelHandlerContext.invokeChannelRead(AbstractChannelHandlerContext.java:420)\n",
      "\tat io.netty.channel.DefaultChannelPipeline.fireChannelRead(DefaultChannelPipeline.java:919)\n",
      "\tat io.netty.channel.nio.AbstractNioByteChannel$NioByteUnsafe.read(AbstractNioByteChannel.java:166)\n",
      "\tat io.netty.channel.nio.NioEventLoop.processSelectedKey(NioEventLoop.java:788)\n",
      "\tat io.netty.channel.nio.NioEventLoop.processSelectedKeysOptimized(NioEventLoop.java:724)\n",
      "\tat io.netty.channel.nio.NioEventLoop.processSelectedKeys(NioEventLoop.java:650)\n",
      "\tat io.netty.channel.nio.NioEventLoop.run(NioEventLoop.java:562)\n",
      "\tat io.netty.util.concurrent.SingleThreadEventExecutor$4.run(SingleThreadEventExecutor.java:997)\n",
      "\tat io.netty.util.internal.ThreadExecutorMap$2.run(ThreadExecutorMap.java:74)\n",
      "\tat io.netty.util.concurrent.FastThreadLocalRunnable.run(FastThreadLocalRunnable.java:30)\n",
      "\tat java.lang.Thread.run(Thread.java:750)\n",
      "\n",
      "\tat org.apache.spark.network.client.TransportResponseHandler.handle(TransportResponseHandler.java:209)\n",
      "\tat org.apache.spark.network.server.TransportChannelHandler.channelRead0(TransportChannelHandler.java:142)\n",
      "\tat org.apache.spark.network.server.TransportChannelHandler.channelRead0(TransportChannelHandler.java:53)\n",
      "\tat io.netty.channel.SimpleChannelInboundHandler.channelRead(SimpleChannelInboundHandler.java:99)\n",
      "\tat io.netty.channel.AbstractChannelHandlerContext.invokeChannelRead(AbstractChannelHandlerContext.java:444)\n",
      "\tat io.netty.channel.AbstractChannelHandlerContext.invokeChannelRead(AbstractChannelHandlerContext.java:420)\n",
      "\tat io.netty.channel.AbstractChannelHandlerContext.fireChannelRead(AbstractChannelHandlerContext.java:412)\n",
      "\tat io.netty.handler.timeout.IdleStateHandler.channelRead(IdleStateHandler.java:286)\n",
      "\tat io.netty.channel.AbstractChannelHandlerContext.invokeChannelRead(AbstractChannelHandlerContext.java:442)\n",
      "\tat io.netty.channel.AbstractChannelHandlerContext.invokeChannelRead(AbstractChannelHandlerContext.java:420)\n",
      "\tat io.netty.channel.AbstractChannelHandlerContext.fireChannelRead(AbstractChannelHandlerContext.java:412)\n",
      "\tat io.netty.handler.codec.MessageToMessageDecoder.channelRead(MessageToMessageDecoder.java:103)\n",
      "\tat io.netty.channel.AbstractChannelHandlerContext.invokeChannelRead(AbstractChannelHandlerContext.java:444)\n",
      "\tat io.netty.channel.AbstractChannelHandlerContext.invokeChannelRead(AbstractChannelHandlerContext.java:420)\n",
      "\tat io.netty.channel.AbstractChannelHandlerContext.fireChannelRead(AbstractChannelHandlerContext.java:412)\n",
      "\tat org.apache.spark.network.util.TransportFrameDecoder.channelRead(TransportFrameDecoder.java:102)\n",
      "\tat io.netty.channel.AbstractChannelHandlerContext.invokeChannelRead(AbstractChannelHandlerContext.java:444)\n",
      "\tat io.netty.channel.AbstractChannelHandlerContext.invokeChannelRead(AbstractChannelHandlerContext.java:420)\n",
      "\tat io.netty.channel.AbstractChannelHandlerContext.fireChannelRead(AbstractChannelHandlerContext.java:412)\n",
      "\tat io.netty.channel.DefaultChannelPipeline$HeadContext.channelRead(DefaultChannelPipeline.java:1410)\n",
      "\tat io.netty.channel.AbstractChannelHandlerContext.invokeChannelRead(AbstractChannelHandlerContext.java:440)\n",
      "\tat io.netty.channel.AbstractChannelHandlerContext.invokeChannelRead(AbstractChannelHandlerContext.java:420)\n",
      "\tat io.netty.channel.DefaultChannelPipeline.fireChannelRead(DefaultChannelPipeline.java:919)\n",
      "\tat io.netty.channel.nio.AbstractNioByteChannel$NioByteUnsafe.read(AbstractNioByteChannel.java:166)\n",
      "\tat io.netty.channel.nio.NioEventLoop.processSelectedKey(NioEventLoop.java:788)\n",
      "\tat io.netty.channel.nio.NioEventLoop.processSelectedKeysOptimized(NioEventLoop.java:724)\n",
      "\tat io.netty.channel.nio.NioEventLoop.processSelectedKeys(NioEventLoop.java:650)\n",
      "\tat io.netty.channel.nio.NioEventLoop.run(NioEventLoop.java:562)\n",
      "\tat io.netty.util.concurrent.SingleThreadEventExecutor$4.run(SingleThreadEventExecutor.java:997)\n",
      "\tat io.netty.util.internal.ThreadExecutorMap$2.run(ThreadExecutorMap.java:74)\n",
      "\tat io.netty.util.concurrent.FastThreadLocalRunnable.run(FastThreadLocalRunnable.java:30)\n",
      "\tat java.lang.Thread.run(Thread.java:750)\n",
      "24/05/17 05:01:23 ERROR ContextCleaner: Error cleaning broadcast 6\n",
      "org.apache.spark.SparkException: Exception thrown in awaitResult: \n",
      "\tat org.apache.spark.util.SparkThreadUtils$.awaitResult(SparkThreadUtils.scala:56)\n",
      "\tat org.apache.spark.util.ThreadUtils$.awaitResult(ThreadUtils.scala:310)\n",
      "\tat org.apache.spark.rpc.RpcTimeout.awaitResult(RpcTimeout.scala:75)\n",
      "\tat org.apache.spark.storage.BlockManagerMaster.removeBroadcast(BlockManagerMaster.scala:222)\n",
      "\tat org.apache.spark.broadcast.TorrentBroadcast$.unpersist(TorrentBroadcast.scala:395)\n",
      "\tat org.apache.spark.broadcast.TorrentBroadcastFactory.unbroadcast(TorrentBroadcastFactory.scala:49)\n",
      "\tat org.apache.spark.broadcast.BroadcastManager.unbroadcast(BroadcastManager.scala:82)\n",
      "\tat org.apache.spark.ContextCleaner.doCleanupBroadcast(ContextCleaner.scala:256)\n",
      "\tat org.apache.spark.ContextCleaner.$anonfun$keepCleaning$3(ContextCleaner.scala:204)\n",
      "\tat org.apache.spark.ContextCleaner.$anonfun$keepCleaning$3$adapted(ContextCleaner.scala:195)\n",
      "\tat scala.Option.foreach(Option.scala:407)\n",
      "\tat org.apache.spark.ContextCleaner.$anonfun$keepCleaning$1(ContextCleaner.scala:195)\n",
      "\tat org.apache.spark.util.Utils$.tryOrStopSparkContext(Utils.scala:1356)\n",
      "\tat org.apache.spark.ContextCleaner.org$apache$spark$ContextCleaner$$keepCleaning(ContextCleaner.scala:189)\n",
      "\tat org.apache.spark.ContextCleaner$$anon$1.run(ContextCleaner.scala:79)\n",
      "Caused by: java.lang.RuntimeException: org.apache.spark.SparkException: Could not find BlockManagerEndpoint1.\n",
      "\tat org.apache.spark.rpc.netty.Dispatcher.postMessage(Dispatcher.scala:178)\n",
      "\tat org.apache.spark.rpc.netty.Dispatcher.postRemoteMessage(Dispatcher.scala:136)\n",
      "\tat org.apache.spark.rpc.netty.NettyRpcHandler.receive(NettyRpcEnv.scala:683)\n",
      "\tat org.apache.spark.network.server.TransportRequestHandler.processRpcRequest(TransportRequestHandler.java:163)\n",
      "\tat org.apache.spark.network.server.TransportRequestHandler.handle(TransportRequestHandler.java:109)\n",
      "\tat org.apache.spark.network.server.TransportChannelHandler.channelRead0(TransportChannelHandler.java:140)\n",
      "\tat org.apache.spark.network.server.TransportChannelHandler.channelRead0(TransportChannelHandler.java:53)\n",
      "\tat io.netty.channel.SimpleChannelInboundHandler.channelRead(SimpleChannelInboundHandler.java:99)\n",
      "\tat io.netty.channel.AbstractChannelHandlerContext.invokeChannelRead(AbstractChannelHandlerContext.java:444)\n",
      "\tat io.netty.channel.AbstractChannelHandlerContext.invokeChannelRead(AbstractChannelHandlerContext.java:420)\n",
      "\tat io.netty.channel.AbstractChannelHandlerContext.fireChannelRead(AbstractChannelHandlerContext.java:412)\n",
      "\tat io.netty.handler.timeout.IdleStateHandler.channelRead(IdleStateHandler.java:286)\n",
      "\tat io.netty.channel.AbstractChannelHandlerContext.invokeChannelRead(AbstractChannelHandlerContext.java:442)\n",
      "\tat io.netty.channel.AbstractChannelHandlerContext.invokeChannelRead(AbstractChannelHandlerContext.java:420)\n",
      "\tat io.netty.channel.AbstractChannelHandlerContext.fireChannelRead(AbstractChannelHandlerContext.java:412)\n",
      "\tat io.netty.handler.codec.MessageToMessageDecoder.channelRead(MessageToMessageDecoder.java:103)\n",
      "\tat io.netty.channel.AbstractChannelHandlerContext.invokeChannelRead(AbstractChannelHandlerContext.java:444)\n",
      "\tat io.netty.channel.AbstractChannelHandlerContext.invokeChannelRead(AbstractChannelHandlerContext.java:420)\n",
      "\tat io.netty.channel.AbstractChannelHandlerContext.fireChannelRead(AbstractChannelHandlerContext.java:412)\n",
      "\tat org.apache.spark.network.util.TransportFrameDecoder.channelRead(TransportFrameDecoder.java:102)\n",
      "\tat io.netty.channel.AbstractChannelHandlerContext.invokeChannelRead(AbstractChannelHandlerContext.java:444)\n",
      "\tat io.netty.channel.AbstractChannelHandlerContext.invokeChannelRead(AbstractChannelHandlerContext.java:420)\n",
      "\tat io.netty.channel.AbstractChannelHandlerContext.fireChannelRead(AbstractChannelHandlerContext.java:412)\n",
      "\tat io.netty.channel.DefaultChannelPipeline$HeadContext.channelRead(DefaultChannelPipeline.java:1410)\n",
      "\tat io.netty.channel.AbstractChannelHandlerContext.invokeChannelRead(AbstractChannelHandlerContext.java:440)\n",
      "\tat io.netty.channel.AbstractChannelHandlerContext.invokeChannelRead(AbstractChannelHandlerContext.java:420)\n",
      "\tat io.netty.channel.DefaultChannelPipeline.fireChannelRead(DefaultChannelPipeline.java:919)\n",
      "\tat io.netty.channel.nio.AbstractNioByteChannel$NioByteUnsafe.read(AbstractNioByteChannel.java:166)\n",
      "\tat io.netty.channel.nio.NioEventLoop.processSelectedKey(NioEventLoop.java:788)\n",
      "\tat io.netty.channel.nio.NioEventLoop.processSelectedKeysOptimized(NioEventLoop.java:724)\n",
      "\tat io.netty.channel.nio.NioEventLoop.processSelectedKeys(NioEventLoop.java:650)\n",
      "\tat io.netty.channel.nio.NioEventLoop.run(NioEventLoop.java:562)\n",
      "\tat io.netty.util.concurrent.SingleThreadEventExecutor$4.run(SingleThreadEventExecutor.java:997)\n",
      "\tat io.netty.util.internal.ThreadExecutorMap$2.run(ThreadExecutorMap.java:74)\n",
      "\tat io.netty.util.concurrent.FastThreadLocalRunnable.run(FastThreadLocalRunnable.java:30)\n",
      "\tat java.lang.Thread.run(Thread.java:750)\n",
      "\n",
      "\tat org.apache.spark.network.client.TransportResponseHandler.handle(TransportResponseHandler.java:209)\n",
      "\tat org.apache.spark.network.server.TransportChannelHandler.channelRead0(TransportChannelHandler.java:142)\n",
      "\tat org.apache.spark.network.server.TransportChannelHandler.channelRead0(TransportChannelHandler.java:53)\n",
      "\tat io.netty.channel.SimpleChannelInboundHandler.channelRead(SimpleChannelInboundHandler.java:99)\n",
      "\tat io.netty.channel.AbstractChannelHandlerContext.invokeChannelRead(AbstractChannelHandlerContext.java:444)\n",
      "\tat io.netty.channel.AbstractChannelHandlerContext.invokeChannelRead(AbstractChannelHandlerContext.java:420)\n",
      "\tat io.netty.channel.AbstractChannelHandlerContext.fireChannelRead(AbstractChannelHandlerContext.java:412)\n",
      "\tat io.netty.handler.timeout.IdleStateHandler.channelRead(IdleStateHandler.java:286)\n",
      "\tat io.netty.channel.AbstractChannelHandlerContext.invokeChannelRead(AbstractChannelHandlerContext.java:442)\n",
      "\tat io.netty.channel.AbstractChannelHandlerContext.invokeChannelRead(AbstractChannelHandlerContext.java:420)\n",
      "\tat io.netty.channel.AbstractChannelHandlerContext.fireChannelRead(AbstractChannelHandlerContext.java:412)\n",
      "\tat io.netty.handler.codec.MessageToMessageDecoder.channelRead(MessageToMessageDecoder.java:103)\n",
      "\tat io.netty.channel.AbstractChannelHandlerContext.invokeChannelRead(AbstractChannelHandlerContext.java:444)\n",
      "\tat io.netty.channel.AbstractChannelHandlerContext.invokeChannelRead(AbstractChannelHandlerContext.java:420)\n",
      "\tat io.netty.channel.AbstractChannelHandlerContext.fireChannelRead(AbstractChannelHandlerContext.java:412)\n",
      "\tat org.apache.spark.network.util.TransportFrameDecoder.channelRead(TransportFrameDecoder.java:102)\n",
      "\tat io.netty.channel.AbstractChannelHandlerContext.invokeChannelRead(AbstractChannelHandlerContext.java:444)\n",
      "\tat io.netty.channel.AbstractChannelHandlerContext.invokeChannelRead(AbstractChannelHandlerContext.java:420)\n",
      "\tat io.netty.channel.AbstractChannelHandlerContext.fireChannelRead(AbstractChannelHandlerContext.java:412)\n",
      "\tat io.netty.channel.DefaultChannelPipeline$HeadContext.channelRead(DefaultChannelPipeline.java:1410)\n",
      "\tat io.netty.channel.AbstractChannelHandlerContext.invokeChannelRead(AbstractChannelHandlerContext.java:440)\n",
      "\tat io.netty.channel.AbstractChannelHandlerContext.invokeChannelRead(AbstractChannelHandlerContext.java:420)\n",
      "\tat io.netty.channel.DefaultChannelPipeline.fireChannelRead(DefaultChannelPipeline.java:919)\n",
      "\tat io.netty.channel.nio.AbstractNioByteChannel$NioByteUnsafe.read(AbstractNioByteChannel.java:166)\n",
      "\tat io.netty.channel.nio.NioEventLoop.processSelectedKey(NioEventLoop.java:788)\n",
      "\tat io.netty.channel.nio.NioEventLoop.processSelectedKeysOptimized(NioEventLoop.java:724)\n",
      "\tat io.netty.channel.nio.NioEventLoop.processSelectedKeys(NioEventLoop.java:650)\n",
      "\tat io.netty.channel.nio.NioEventLoop.run(NioEventLoop.java:562)\n",
      "\tat io.netty.util.concurrent.SingleThreadEventExecutor$4.run(SingleThreadEventExecutor.java:997)\n",
      "\tat io.netty.util.internal.ThreadExecutorMap$2.run(ThreadExecutorMap.java:74)\n",
      "\tat io.netty.util.concurrent.FastThreadLocalRunnable.run(FastThreadLocalRunnable.java:30)\n",
      "\tat java.lang.Thread.run(Thread.java:750)\n"
     ]
    }
   ],
   "source": [
    "# Search the specific columns for the election words and filter the dataset\n",
    "\n",
    "columns_to_search = [\n",
    "    'ad_creative_body',\n",
    "    'ad_creative_bodies',\n",
    "    'ad_creative_link_caption',\n",
    "    'ad_creative_link_captions',\n",
    "    'ad_creative_link_description',\n",
    "    'ad_creative_link_descriptions',\n",
    "    'ad_creative_link_title',\n",
    "    'ad_creative_link_titles'\n",
    "]\n",
    "\n",
    "words_to_search = ['funds', 'people', 'party', 'state', 'government', 'adam', 'vote', 'leader', 'scott', 'australian', 'pm', 'campaign', 'election',\n",
    "                   'anthony', 'policy', 'federal', 'morrison', 'parliament', 'greens', 'liberal', 'candidate', 'political', 'voting', 'albanese',\n",
    "                   'labor', 'bandt']\n",
    "\n",
    "# Create an empty DataFrame to collect the filtered results\n",
    "filtered_df = spark_session.createDataFrame([], df_id_unique.schema)\n",
    "\n",
    "# Loop through each word to search for\n",
    "for word in words_to_search:\n",
    "    # Initialize the filter condition\n",
    "    word_filter = None\n",
    "    # Loop through each column to search in\n",
    "    for column in columns_to_search:\n",
    "        # Apply lowercase transformation and concatenate array elements into a single string\n",
    "        if '_bodies' in column or '_captions' in column or '_descriptions' in column or '_titles' in column:\n",
    "            concatenated_string = lower(array_join(col(column), \" \"))\n",
    "        else:\n",
    "            concatenated_string = lower(col(column))\n",
    "        # Check if the concatenated string contains the search word\n",
    "        condition = concatenated_string.contains(word.lower())\n",
    "        # Union the filtered results with the existing DataFrame\n",
    "        if word_filter is None:\n",
    "            word_filter = condition\n",
    "        else:\n",
    "            word_filter = word_filter | condition\n",
    "    # Filter the DataFrame based on the current word and union the results\n",
    "    filtered_df = filtered_df.union(df_id_unique.filter(word_filter))\n",
    "\n",
    "print(\"\\nTotal Count:\")\n",
    "print(filtered_df.count())"
   ]
  },
  {
   "cell_type": "code",
   "execution_count": 6,
   "id": "37769077-e283-4a9a-b766-a03634877b89",
   "metadata": {
    "scrolled": true
   },
   "outputs": [
    {
     "name": "stdout",
     "output_type": "stream",
     "text": [
      "\n",
      "Total Count:\n"
     ]
    },
    {
     "name": "stderr",
     "output_type": "stream",
     "text": [
      "[Stage 14:======================================================> (32 + 1) / 33]\r"
     ]
    },
    {
     "name": "stdout",
     "output_type": "stream",
     "text": [
      "1499362\n"
     ]
    },
    {
     "name": "stderr",
     "output_type": "stream",
     "text": [
      "                                                                                \r"
     ]
    }
   ],
   "source": [
    "# Drop the duplicate records with respect to 'id' column on the filtered_df\n",
    "\n",
    "filtered_df_id_unique = filtered_df.dropDuplicates(subset=['id'])\n",
    "print(\"\\nTotal Count:\")\n",
    "print(filtered_df_id_unique.count())"
   ]
  },
  {
   "cell_type": "code",
   "execution_count": 7,
   "id": "34b0bb3f-9b98-4f62-87a2-386b3783a6a4",
   "metadata": {
    "scrolled": true
   },
   "outputs": [
    {
     "name": "stdout",
     "output_type": "stream",
     "text": [
      "\n",
      "Total Count:\n"
     ]
    },
    {
     "name": "stderr",
     "output_type": "stream",
     "text": [
      "[Stage 28:>                                                         (0 + 1) / 1]\r"
     ]
    },
    {
     "name": "stdout",
     "output_type": "stream",
     "text": [
      "162042\n"
     ]
    },
    {
     "name": "stderr",
     "output_type": "stream",
     "text": [
      "                                                                                \r"
     ]
    }
   ],
   "source": [
    "# Filter the DataFrame based on the ad_creation_time column\n",
    "\n",
    "election_df = filtered_df_id_unique.filter(to_date(col(\"ad_creation_time\"), \"yyyy-MM-dd\") < \"2022-07-01\")\n",
    "election_df = election_df.dropDuplicates(subset=['id'])\n",
    "print(\"\\nTotal Count:\")\n",
    "print(election_df.count())"
   ]
  },
  {
   "cell_type": "code",
   "execution_count": 8,
   "id": "5fd012a3-a732-4427-a48f-170114ab0e66",
   "metadata": {
    "scrolled": true
   },
   "outputs": [
    {
     "name": "stderr",
     "output_type": "stream",
     "text": [
      "24/05/17 05:12:22 WARN DAGScheduler: Broadcasting large task binary with size 1805.5 KiB\n",
      "24/05/17 05:14:33 WARN DAGScheduler: Broadcasting large task binary with size 1153.6 KiB\n",
      "                                                                                \r"
     ]
    },
    {
     "name": "stdout",
     "output_type": "stream",
     "text": [
      "                                    0\n",
      "ad_creation_time                    0\n",
      "ad_creative_bodies             156726\n",
      "ad_creative_body                 6134\n",
      "ad_creative_link_caption        57088\n",
      "ad_creative_link_captions      157700\n",
      "ad_creative_link_description    77012\n",
      "ad_creative_link_descriptions  158588\n",
      "ad_creative_link_title          54675\n",
      "ad_creative_link_titles        157715\n",
      "ad_delivery_start_time              0\n",
      "ad_delivery_stop_time          157257\n",
      "ad_snapshot_url                     0\n",
      "bylines                        156712\n",
      "currency                            0\n",
      "delivery_by_region             157734\n",
      "demographic_distribution        13995\n",
      "estimated_audience_size        156704\n",
      "funding_entity                    247\n",
      "id                                  0\n",
      "impressions                         0\n",
      "languages                      156709\n",
      "page_id                             0\n",
      "page_name                           0\n",
      "publisher_platforms            156683\n",
      "region_distribution             13995\n",
      "spend                               0\n"
     ]
    }
   ],
   "source": [
    "# Check the null values in each column\n",
    "\n",
    "missing_counts_election = election_df.select([count(when(col(c).isNull(), c)).alias(c) for c in election_df.columns]).toPandas().T\n",
    "print(missing_counts_election)"
   ]
  },
  {
   "cell_type": "code",
   "execution_count": 13,
   "id": "77f4d694-7884-46a8-aa7e-3621a10c8223",
   "metadata": {
    "scrolled": true
   },
   "outputs": [
    {
     "name": "stderr",
     "output_type": "stream",
     "text": [
      "[Stage 84:===================================================>   (94 + 6) / 100]\r"
     ]
    },
    {
     "name": "stdout",
     "output_type": "stream",
     "text": [
      "+----------------+--------------------------------------------------------+-----+\n",
      "|page_id         |page_name                                               |count|\n",
      "+----------------+--------------------------------------------------------+-----+\n",
      "|9480502970      |Greenpeace Australia Pacific                            |6027 |\n",
      "|307341981788    |Australian Labor Party                                  |4855 |\n",
      "|157481181070130 |Indigenous Employment Australia                         |3559 |\n",
      "|13561467463     |Liberal Party of Australia                              |3409 |\n",
      "|49453745631     |Amnesty International Australia                         |2919 |\n",
      "|149648047339    |Save the Children Australia                             |1983 |\n",
      "|316480331783930 |Australian Unions                                       |1797 |\n",
      "|104389532222332 |Solutions                                               |1649 |\n",
      "|397230473694314 |Queensland Labor                                        |1405 |\n",
      "|341910905847062 |Asylum Seeker Resource Centre (ASRC)                    |1367 |\n",
      "|165242077409311 |Australian Automobile Association                       |1355 |\n",
      "|13527056454     |GetUp!                                                  |1229 |\n",
      "|101589645013040 |Thrive by Five                                          |1100 |\n",
      "|182564410468    |Australia for UNHCR                                     |1074 |\n",
      "|8422338499      |The Wilderness Society                                  |1027 |\n",
      "|124097239458    |Wayside Chapel                                          |999  |\n",
      "|537762462924537 |Anthony Albanese                                        |993  |\n",
      "|8013404017      |Crikey                                                  |991  |\n",
      "|121201504755819 |Animal Justice Party AJP Victoria                       |933  |\n",
      "|105228161893855 |Climate 200                                             |890  |\n",
      "|464998863536680 |Bill Shorten                                            |879  |\n",
      "|106671751116820 |NSWRebate.Solar                                         |825  |\n",
      "|109540078293238 |Affordable Medicines Now                                |807  |\n",
      "|308746806571901 |Advance Australia                                       |798  |\n",
      "|89794331215     |Oxfam                                                   |789  |\n",
      "|879712192044319 |Animal Justice Party NSW                                |786  |\n",
      "|14193666340     |Australian Conservation Foundation                      |680  |\n",
      "|156271657717715 |Nature NSW                                              |668  |\n",
      "|108695110952294 |Greens MPs                                              |628  |\n",
      "|231341250224498 |Australian Ethical Investment                           |622  |\n",
      "|103768131733660 |Leave My Super Alone                                    |618  |\n",
      "|427125817373739 |Peter Malinauskas                                       |591  |\n",
      "|113830088678537 |Rob Mitchell MP - Federal Labor Member for McEwen       |570  |\n",
      "|155392951186771 |Dying with Dignity NSW                                  |558  |\n",
      "|167010053353176 |Armenian National Committee of Australia                |534  |\n",
      "|132800873768451 |Anne Aly                                                |515  |\n",
      "|372125409639    |World Transformation Movement                           |514  |\n",
      "|10113538711     |WWF-Australia                                           |510  |\n",
      "|1660905180833979|Parliament of Victoria                                  |486  |\n",
      "|119931654696956 |Victorian Greens                                        |485  |\n",
      "|352953834815624 |Jason Wood MP                                           |478  |\n",
      "|44701328033     |NSW Liberal Party                                       |471  |\n",
      "|1501550403427903|Senator Anthony Chisholm                                |462  |\n",
      "|345960425540557 |The Climate Council                                     |447  |\n",
      "|328641501156991 |United Workers Union                                    |438  |\n",
      "|174666115898903 |Councillor Jerome Laxale - Labor                        |431  |\n",
      "|105140971475089 |Chuffed.org - Australia                                 |420  |\n",
      "|100797488277640 |Campbell Newman - Lead QLD Senate Candidate             |415  |\n",
      "|136238709722696 |Victorian Labor                                         |410  |\n",
      "|1862155904096945|Whitsundays Progress Group - WPG                        |400  |\n",
      "|100884579236385 |Australian Alliance for Animals                         |399  |\n",
      "|403190333059705 |Every School Every Child                                |388  |\n",
      "|104475658104700 |Parliament House of Cards                               |388  |\n",
      "|1510561608994505|Katie Allen MP                                          |387  |\n",
      "|680274442059163 |Animal Justice Party                                    |385  |\n",
      "|137619162220    |Liberals WA                                             |377  |\n",
      "|133861650136733 |ABC Friends                                             |374  |\n",
      "|146809615402166 |Keir Paterson - Labor Candidate for Melbourne           |364  |\n",
      "|2063329587276680|Anika Wells MP                                          |359  |\n",
      "|292602604891    |Josh Frydenberg                                         |352  |\n",
      "|200819325600    |ActionAid Australia                                     |343  |\n",
      "|186985648081724 |Mark Butler MP                                          |343  |\n",
      "|181854426162    |CHOICE                                                  |339  |\n",
      "|116868855036962 |Craig Ondarchie MP                                      |336  |\n",
      "|278403342281472 |Cindy McLeish MP                                        |336  |\n",
      "|21551986502     |The Greens (WA)                                         |335  |\n",
      "|193047494589008 |Senator Rex Patrick                                     |328  |\n",
      "|199045310115813 |The Urban Developer                                     |326  |\n",
      "|324660077589275 |Jackie Trad                                             |325  |\n",
      "|504855933190931 |Time for Change - Change Aged Care                      |323  |\n",
      "|424864151385105 |Gavin Pearce MP                                         |320  |\n",
      "|214559598616472 |Canberra Liberals                                       |318  |\n",
      "|451516984861373 |Rob Molhoek MP                                          |315  |\n",
      "|248830975648053 |More Affordable Health                                  |310  |\n",
      "|185917314792939 |Liberal Victoria                                        |310  |\n",
      "|158532174266173 |Steven Marshall                                         |309  |\n",
      "|581391495214301 |ACT Labor                                               |308  |\n",
      "|106545804149227 |The New Liberals                                        |295  |\n",
      "|162107547181406 |LNP - Liberal National Party                            |289  |\n",
      "|275866669090583 |South Australian Liberal Party                          |286  |\n",
      "|1029005380539928|AustralianFarmers                                       |284  |\n",
      "|1609771445950238|Peter Khalil                                            |280  |\n",
      "|1445863699024135|Business Council of Australia                           |277  |\n",
      "|426913580659855 |Mark McGowan                                            |276  |\n",
      "|10852627380     |World Animal Protection Australia                       |274  |\n",
      "|101818568874753 |Together We Can                                         |270  |\n",
      "|161854162881    |Greenfleet                                              |270  |\n",
      "|125812604095801 |Invasive Species Council                                |266  |\n",
      "|102329728050606 |From the Heart                                          |262  |\n",
      "|157812980921536 |Environmental Defenders Office                          |257  |\n",
      "|1606466942984166|Scott Lynn - We, The People                             |257  |\n",
      "|32334589553     |Nick Wakeling MP                                        |256  |\n",
      "|107793774960380 |Stand Up For WA                                         |253  |\n",
      "|101927318283875 |Liberals For Climate - The Flux Network                 |253  |\n",
      "|101445619187940 |Bennelong Labor                                         |252  |\n",
      "|302386636554    |Victorian Liberal Leader - Michael O'Brien MP           |250  |\n",
      "|159082219490    |Australian Youth Climate Coalition                      |248  |\n",
      "|101317875732604 |Dr Sophie Scamps                                        |247  |\n",
      "|501779903241706 |Animal Justice Party AJP Western Australia              |245  |\n",
      "|103951138706657 |AustralianValues.org.au                                 |240  |\n",
      "|177072498997234 |NSW Electoral Commission                                |240  |\n",
      "|109327461601872 |1in50 Australia                                         |239  |\n",
      "|47047273581     |Cancer Council SA                                       |238  |\n",
      "|22746335927     |Bob Brown Foundation                                    |236  |\n",
      "|1767975046782781|Jackson Taylor MP                                       |234  |\n",
      "|196804953777923 |Steph Hodgins-May                                       |234  |\n",
      "|317357152552163 |Powerpal                                                |233  |\n",
      "|62266509441     |Gordon Rich-Phillips MP                                 |233  |\n",
      "|102813958520945 |Climb it for Climate                                    |232  |\n",
      "|665017740294128 |Julian Hill MP                                          |229  |\n",
      "|1995542040513647|Australian Parents for Climate Action                   |228  |\n",
      "|107492935010781 |North Sydney's Kylea Tink for Canberra                  |227  |\n",
      "|100385049145414 |Allegra Spender                                         |227  |\n",
      "|185738798123705 |South Australian Labor                                  |227  |\n",
      "|701178440090122 |Ali France for Dickson                                  |226  |\n",
      "|1692243401039740|Emily Hamilton MLA                                      |226  |\n",
      "|361491373921077 |Solar Citizens                                          |226  |\n",
      "|136441724510    |Humane Society International Australia                  |224  |\n",
      "|2232624883416629|Melissa McIntosh MP                                     |224  |\n",
      "|144449965668596 |Richard Marles MP                                       |222  |\n",
      "|103793788825307 |Dr Monique Ryan                                         |220  |\n",
      "|107922128050808 |Impact X                                                |218  |\n",
      "|210489175648666 |Zoe Daniel                                              |218  |\n",
      "|726565307466774 |Peta Murphy MP Federal Member for Dunkley               |218  |\n",
      "|411225518941692 |Unions NSW                                              |216  |\n",
      "|545594388945678 |Epping NSW Labor branch - ALP                           |214  |\n",
      "|119246428679    |NSW Labor                                               |212  |\n",
      "|108381455902627 |Australian Christian Lobby                              |211  |\n",
      "|356113427813761 |Kevin Hogan MP                                          |211  |\n",
      "|160021291752    |Environment Victoria                                    |210  |\n",
      "|101380144975342 |AUSRebate.Solar                                         |210  |\n",
      "|145262132264710 |Angus Taylor MP                                         |205  |\n",
      "|112133637214684 |Doctors Without Borders / Médecins Sans Frontières (MSF)|204  |\n",
      "|123434864414732 |Rebecca White MP                                        |204  |\n",
      "|384316915023138 |Animal Justice Party Queensland                         |199  |\n",
      "|388033921693680 |Alyssa Hayden MLA                                       |197  |\n",
      "|44295826958     |Australian Marine Conservation Society                  |196  |\n",
      "|1784597901812763|Gordon Bradbery                                         |196  |\n",
      "|590302731315349 |Russell Robertson - Labor for Capricornia               |195  |\n",
      "|107728591594744 |Sam Rae                                                 |194  |\n",
      "|134712696593275 |Dan Andrews                                             |194  |\n",
      "|164045887863946 |Fiona Martin MP                                         |192  |\n",
      "|92824008332     |Plan International Australia                            |189  |\n",
      "|435267276610362 |Ryan Smith MP                                           |188  |\n",
      "|101791315693    |Destiny Rescue                                          |185  |\n",
      "|21591025194     |The University of Melbourne                             |181  |\n",
      "|2123082547982848|ValuEd Voices                                           |181  |\n",
      "|160089444042253 |WA Labor                                                |180  |\n",
      "|424862620880565 |Sam Hibbins                                             |178  |\n",
      "|45587531822     |The Greens SA                                           |177  |\n",
      "+----------------+--------------------------------------------------------+-----+\n",
      "only showing top 150 rows\n",
      "\n"
     ]
    },
    {
     "name": "stderr",
     "output_type": "stream",
     "text": [
      "                                                                                \r"
     ]
    }
   ],
   "source": [
    "# Check the top 50 pages with count\n",
    "\n",
    "page_counts = election_df.groupBy(\"page_id\", \"page_name\").agg(count(\"*\").alias(\"count\"))\n",
    "page_counts = page_counts.orderBy(\"count\", ascending=False)\n",
    "page_counts.select(\"page_id\", \"page_name\", \"count\").show(150,truncate=False)"
   ]
  },
  {
   "cell_type": "code",
   "execution_count": 14,
   "id": "1bd4dd3f-8288-43f1-9162-80965cb9860f",
   "metadata": {
    "scrolled": true
   },
   "outputs": [
    {
     "name": "stdout",
     "output_type": "stream",
     "text": [
      "\n",
      "Counts for labor party:\n"
     ]
    },
    {
     "name": "stderr",
     "output_type": "stream",
     "text": [
      "                                                                                \r"
     ]
    },
    {
     "name": "stdout",
     "output_type": "stream",
     "text": [
      "14600\n",
      "\n",
      "Counts for liberal party:\n"
     ]
    },
    {
     "name": "stderr",
     "output_type": "stream",
     "text": [
      "                                                                                \r"
     ]
    },
    {
     "name": "stdout",
     "output_type": "stream",
     "text": [
      "9603\n",
      "\n",
      "Counts for greens party:\n"
     ]
    },
    {
     "name": "stderr",
     "output_type": "stream",
     "text": [
      "[Stage 114:==================================================>    (61 + 5) / 66]\r"
     ]
    },
    {
     "name": "stdout",
     "output_type": "stream",
     "text": [
      "1160\n"
     ]
    },
    {
     "name": "stderr",
     "output_type": "stream",
     "text": [
      "                                                                                \r"
     ]
    }
   ],
   "source": [
    "# Filter the ads for Labor, Liberal, and Greens parties from the top 50 pages\n",
    "\n",
    "labor_page_ids = ['307341981788', '397230473694314', '537762462924537' '464998863536680', '427125817373739', '113830088678537',\n",
    "                  '132800873768451', '1501550403427903', '174666115898903', '136238709722696', '146809615402166', '186985648081724',\n",
    "                  '324660077589275', '581391495214301', '101445619187940', '2063329587276680', '1609771445950238', '426913580659855',\n",
    "                  '1767975046782781', '665017740294128', '185738798123705', '701178440090122', '1692243401039740', '144449965668596',\n",
    "                  '545594388945678', '119246428679', '726565307466774', '123434864414732', '590302731315349', '160089444042253',\n",
    "                  '134712696593275']\n",
    "liberal_page_ids = ['13561467463', '352953834815624' '44701328033', '100797488277640', '137619162220', '292602604891', '214559598616472',\n",
    "                    '185917314792939', '162107547181406', '275866669090583', '1510561608994505', '278403342281472', '116868855036962',\n",
    "                    '424864151385105', '451516984861373', '158532174266173', '32334589553', '101927318283875', '302386636554', '62266509441',\n",
    "                    '2232624883416629', '145262132264710', '164045887863946', '435267276610362']\n",
    "greens_page_ids = ['108695110952294' '119931654696956', '21551986502', '22746335927', '196804953777923', '45587531822', '424862620880565']\n",
    "\n",
    "# Filter the DataFrame based on the page IDs for each party\n",
    "labor_df = election_df.filter(col(\"page_id\").isin(labor_page_ids))\n",
    "liberal_df = election_df.filter(col(\"page_id\").isin(liberal_page_ids))\n",
    "greens_df = election_df.filter(col(\"page_id\").isin(greens_page_ids))\n",
    "\n",
    "print(\"\\nCounts for labor party:\")\n",
    "print(labor_df.count())\n",
    "print(\"\\nCounts for liberal party:\")\n",
    "print(liberal_df.count())\n",
    "print(\"\\nCounts for greens party:\")\n",
    "print(greens_df.count())"
   ]
  },
  {
   "cell_type": "code",
   "execution_count": 15,
   "id": "36593a7c-f148-48ea-ba7a-32c554cb37c2",
   "metadata": {
    "scrolled": true
   },
   "outputs": [
    {
     "name": "stderr",
     "output_type": "stream",
     "text": [
      "24/05/17 06:38:11 WARN DAGScheduler: Broadcasting large task binary with size 2040.9 KiB\n",
      "24/05/17 06:38:11 WARN DAGScheduler: Broadcasting large task binary with size 2040.9 KiB\n"
     ]
    },
    {
     "name": "stdout",
     "output_type": "stream",
     "text": [
      "+----------+-----+--------+\n",
      "|month-year|count|   party|\n",
      "+----------+-----+--------+\n",
      "|   2020-03|   55|   labor|\n",
      "|   2020-04|   13|   labor|\n",
      "|   2020-05|   31|   labor|\n",
      "|   2020-06|   41|   labor|\n",
      "|   2020-07|   16|   labor|\n",
      "|   2020-08|  169|   labor|\n",
      "|   2020-09|  584|   labor|\n",
      "|   2020-10|  846|   labor|\n",
      "|   2020-11|  139|   labor|\n",
      "|   2020-12|   63|   labor|\n",
      "|   2021-01|   88|   labor|\n",
      "|   2021-02|  501|   labor|\n",
      "|   2021-03|  506|   labor|\n",
      "|   2021-04|  265|   labor|\n",
      "|   2021-05|  433|   labor|\n",
      "|   2021-06| 1109|   labor|\n",
      "|   2021-07|  774|   labor|\n",
      "|   2021-08|  897|   labor|\n",
      "|   2021-09|  358|   labor|\n",
      "|   2021-10|  231|   labor|\n",
      "|   2021-11|  193|   labor|\n",
      "|   2021-12|  129|   labor|\n",
      "|   2022-01|   99|   labor|\n",
      "|   2022-02|  385|   labor|\n",
      "|   2022-03|  909|   labor|\n",
      "|   2022-04| 2130|   labor|\n",
      "|   2022-05| 3570|   labor|\n",
      "|   2022-06|   66|   labor|\n",
      "|   2020-03|   16| liberal|\n",
      "|   2020-04|    3| liberal|\n",
      "|   2020-05|    8| liberal|\n",
      "|   2020-06|    5| liberal|\n",
      "|   2020-07|   11| liberal|\n",
      "|   2020-08|  124| liberal|\n",
      "|   2020-09|  416| liberal|\n",
      "|   2020-10|  639| liberal|\n",
      "|   2020-11|  196| liberal|\n",
      "|   2020-12|  129| liberal|\n",
      "|   2021-01|  142| liberal|\n",
      "|   2021-02|  341| liberal|\n",
      "|   2021-03|  455| liberal|\n",
      "|   2021-04|  174| liberal|\n",
      "|   2021-05|  223| liberal|\n",
      "|   2021-06|  169| liberal|\n",
      "|   2021-07|  207| liberal|\n",
      "|   2021-08|  280| liberal|\n",
      "|   2021-09|  291| liberal|\n",
      "|   2021-10|  255| liberal|\n",
      "|   2021-11|  377| liberal|\n",
      "|   2021-12|  127| liberal|\n",
      "|   2022-01|  147| liberal|\n",
      "|   2022-02|  305| liberal|\n",
      "|   2022-03|  649| liberal|\n",
      "|   2022-04|  871| liberal|\n",
      "|   2022-05| 2928| liberal|\n",
      "|   2022-06|  115| liberal|\n",
      "|   2020-08|    2|  greens|\n",
      "|   2020-09|    5|  greens|\n",
      "|   2020-10|   11|  greens|\n",
      "|   2020-11|   38|  greens|\n",
      "|   2020-12|    8|  greens|\n",
      "|   2021-01|   46|  greens|\n",
      "|   2021-02|  107|  greens|\n",
      "|   2021-03|   92|  greens|\n",
      "|   2021-04|  183|  greens|\n",
      "|   2021-05|    6|  greens|\n",
      "|   2021-06|   34|  greens|\n",
      "|   2021-07|   55|  greens|\n",
      "|   2021-08|   16|  greens|\n",
      "|   2021-09|   16|  greens|\n",
      "|   2021-10|   16|  greens|\n",
      "|   2021-11|   14|  greens|\n",
      "|   2021-12|   12|  greens|\n",
      "|   2022-01|   39|  greens|\n",
      "|   2022-02|   49|  greens|\n",
      "|   2022-03|   69|  greens|\n",
      "|   2022-04|   41|  greens|\n",
      "|   2022-05|  294|  greens|\n",
      "|   2022-06|    7|  greens|\n",
      "|   2020-01|    6|election|\n",
      "|   2020-02|   27|election|\n",
      "|   2020-03|  380|election|\n",
      "|   2020-04|  168|election|\n",
      "|   2020-05|  201|election|\n",
      "|   2020-06|  218|election|\n",
      "|   2020-07|  272|election|\n",
      "|   2020-08| 3911|election|\n",
      "|   2020-09| 7456|election|\n",
      "|   2020-10|12822|election|\n",
      "|   2020-11| 3008|election|\n",
      "|   2020-12| 2062|election|\n",
      "|   2021-01| 2431|election|\n",
      "|   2021-02| 6564|election|\n",
      "|   2021-03| 5679|election|\n",
      "|   2021-04| 4688|election|\n",
      "|   2021-05| 4253|election|\n",
      "|   2021-06| 5121|election|\n",
      "|   2021-07| 4896|election|\n",
      "|   2021-08| 6557|election|\n",
      "|   2021-09| 7457|election|\n",
      "|   2021-10| 7424|election|\n",
      "|   2021-11| 9333|election|\n",
      "|   2021-12| 4209|election|\n",
      "|   2022-01| 3710|election|\n",
      "|   2022-02| 6953|election|\n",
      "|   2022-03|11513|election|\n",
      "|   2022-04|14381|election|\n",
      "|   2022-05|21752|election|\n",
      "|   2022-06| 4584|election|\n",
      "+----------+-----+--------+\n",
      "\n"
     ]
    }
   ],
   "source": [
    "from pyspark.sql.functions import col, lit, date_format\n",
    "from pyspark.sql import Window\n",
    "import pyspark.sql.functions as F\n",
    "\n",
    "# Function to calculate YYYY-MM counts and add party name\n",
    "def calculate_counts_with_party(df, party_name):\n",
    "    counts = (\n",
    "        df.withColumn(\"month-year\", date_format(col(\"ad_creation_time\"), \"yyyy-MM\"))\n",
    "        .groupBy(\"month-year\")\n",
    "        .agg(F.count(\"*\").alias(\"count\"))\n",
    "        .withColumn(\"party\", lit(party_name))\n",
    "        .select(\"month-year\", \"count\", \"party\")\n",
    "        .orderBy(\"month-year\")\n",
    "    )\n",
    "    return counts\n",
    "\n",
    "# Calculate counts for each DataFrame\n",
    "labor_counts = calculate_counts_with_party(labor_df, \"labor\")\n",
    "liberal_counts = calculate_counts_with_party(liberal_df, \"liberal\")\n",
    "greens_counts = calculate_counts_with_party(greens_df, \"greens\")\n",
    "election_counts = calculate_counts_with_party(election_df, \"election\")\n",
    "\n",
    "# Union the DataFrames\n",
    "combined_counts = labor_counts.union(liberal_counts).union(greens_counts).union(election_counts)\n",
    "\n",
    "# Show the results\n",
    "combined_counts.show(200)"
   ]
  },
  {
   "cell_type": "code",
   "execution_count": 16,
   "id": "4fdbfbf4-090b-49c4-9980-39a049729761",
   "metadata": {
    "scrolled": true
   },
   "outputs": [
    {
     "name": "stdout",
     "output_type": "stream",
     "text": [
      "\n",
      "Currencies for Labor Party:\n"
     ]
    },
    {
     "name": "stderr",
     "output_type": "stream",
     "text": [
      "                                                                                \r"
     ]
    },
    {
     "name": "stdout",
     "output_type": "stream",
     "text": [
      "+--------+\n",
      "|currency|\n",
      "+--------+\n",
      "|     AUD|\n",
      "+--------+\n",
      "\n",
      "\n",
      "Currencies for Liberal Party:\n"
     ]
    },
    {
     "name": "stderr",
     "output_type": "stream",
     "text": [
      "                                                                                \r"
     ]
    },
    {
     "name": "stdout",
     "output_type": "stream",
     "text": [
      "+--------+\n",
      "|currency|\n",
      "+--------+\n",
      "|     AUD|\n",
      "+--------+\n",
      "\n",
      "\n",
      "Currencies for Greens Party:\n"
     ]
    },
    {
     "name": "stderr",
     "output_type": "stream",
     "text": [
      "[Stage 223:>                                                        (0 + 1) / 1]\r"
     ]
    },
    {
     "name": "stdout",
     "output_type": "stream",
     "text": [
      "+--------+\n",
      "|currency|\n",
      "+--------+\n",
      "|     AUD|\n",
      "+--------+\n",
      "\n"
     ]
    },
    {
     "name": "stderr",
     "output_type": "stream",
     "text": [
      "                                                                                \r"
     ]
    }
   ],
   "source": [
    "# Check the currencies used by each party\n",
    "\n",
    "distinct_currencies_labor = labor_df.select(\"currency\").distinct()\n",
    "print(\"\\nCurrencies for Labor Party:\")\n",
    "distinct_currencies_labor.show()\n",
    "\n",
    "distinct_currencies_liberal = liberal_df.select(\"currency\").distinct()\n",
    "print(\"\\nCurrencies for Liberal Party:\")\n",
    "distinct_currencies_liberal.show()\n",
    "\n",
    "distinct_currencies_greens = greens_df.select(\"currency\").distinct()\n",
    "print(\"\\nCurrencies for Greens Party:\")\n",
    "distinct_currencies_greens.show()"
   ]
  },
  {
   "cell_type": "code",
   "execution_count": 17,
   "id": "e860bd88-f3b1-4889-8d8f-c3ca32f94b8f",
   "metadata": {
    "scrolled": true
   },
   "outputs": [
    {
     "name": "stderr",
     "output_type": "stream",
     "text": [
      "[Stage 283:>                                                        (0 + 1) / 1]\r"
     ]
    },
    {
     "name": "stdout",
     "output_type": "stream",
     "text": [
      "Overall Spend Labor:\n",
      "Spend Lower Bound: 1841600.0\n",
      "Spend Upper Bound: 3451700.0\n",
      "\n",
      "Overall Spend Liberal:\n",
      "Spend Lower Bound: 1023500.0\n",
      "Spend Upper Bound: 2086697.0\n",
      "\n",
      "Overall Spend Greens:\n",
      "Spend Lower Bound: 112800.0\n",
      "Spend Upper Bound: 230140.0\n"
     ]
    },
    {
     "name": "stderr",
     "output_type": "stream",
     "text": [
      "                                                                                \r"
     ]
    }
   ],
   "source": [
    "#Calculate the spend for each party with lower_bound and upper_bound\n",
    "\n",
    "# Replace None values with 0 before summing\n",
    "labor_df = labor_df.withColumn(\"spend_lower_bound\", when(col(\"spend.lower_bound\").isNull(), 0).otherwise(col(\"spend.lower_bound\")))\n",
    "labor_df = labor_df.withColumn(\"spend_upper_bound\", when(col(\"spend.upper_bound\").isNull(), 0).otherwise(col(\"spend.upper_bound\")))\n",
    "liberal_df = liberal_df.withColumn(\"spend_lower_bound\", when(col(\"spend.lower_bound\").isNull(), 0).otherwise(col(\"spend.lower_bound\")))\n",
    "liberal_df = liberal_df.withColumn(\"spend_upper_bound\", when(col(\"spend.upper_bound\").isNull(), 0).otherwise(col(\"spend.upper_bound\")))\n",
    "greens_df = greens_df.withColumn(\"spend_lower_bound\", when(col(\"spend.lower_bound\").isNull(), 0).otherwise(col(\"spend.lower_bound\")))\n",
    "greens_df = greens_df.withColumn(\"spend_upper_bound\", when(col(\"spend.upper_bound\").isNull(), 0).otherwise(col(\"spend.upper_bound\")))\n",
    "\n",
    "# Calculate the sum of lower_bound and upper_bound values\n",
    "labor_spend_lower = labor_df.selectExpr(\"sum(CAST(spend_lower_bound AS FLOAT)) AS spend_lower_bound\").collect()[0][\"spend_lower_bound\"]\n",
    "labor_spend_upper = labor_df.selectExpr(\"sum(CAST(spend_upper_bound AS FLOAT)) AS spend_upper_bound\").collect()[0][\"spend_upper_bound\"]\n",
    "liberal_spend_lower = liberal_df.selectExpr(\"sum(CAST(spend_lower_bound AS FLOAT)) AS spend_lower_bound\").collect()[0][\"spend_lower_bound\"]\n",
    "liberal_spend_upper = liberal_df.selectExpr(\"sum(CAST(spend_upper_bound AS FLOAT)) AS spend_upper_bound\").collect()[0][\"spend_upper_bound\"]\n",
    "greens_spend_lower = greens_df.selectExpr(\"sum(CAST(spend_lower_bound AS FLOAT)) AS spend_lower_bound\").collect()[0][\"spend_lower_bound\"]\n",
    "greens_spend_upper = greens_df.selectExpr(\"sum(CAST(spend_upper_bound AS FLOAT)) AS spend_upper_bound\").collect()[0][\"spend_upper_bound\"]\n",
    "\n",
    "print(\"Overall Spend Labor:\")\n",
    "print(f\"Spend Lower Bound: {labor_spend_lower}\")\n",
    "print(f\"Spend Upper Bound: {labor_spend_upper}\")\n",
    "print(\"\\nOverall Spend Liberal:\")\n",
    "print(f\"Spend Lower Bound: {liberal_spend_lower}\")\n",
    "print(f\"Spend Upper Bound: {liberal_spend_upper}\")\n",
    "print(\"\\nOverall Spend Greens:\")\n",
    "print(f\"Spend Lower Bound: {greens_spend_lower}\")\n",
    "print(f\"Spend Upper Bound: {greens_spend_upper}\")"
   ]
  },
  {
   "cell_type": "code",
   "execution_count": 18,
   "id": "fbed989a-a259-4662-abf5-9b67295aa53b",
   "metadata": {
    "scrolled": true
   },
   "outputs": [
    {
     "name": "stderr",
     "output_type": "stream",
     "text": [
      "[Stage 343:>                                                        (0 + 1) / 1]\r"
     ]
    },
    {
     "name": "stdout",
     "output_type": "stream",
     "text": [
      "Overall impressions Labor:\n",
      "impressions Lower Bound: 146548000.0\n",
      "impressions Upper Bound: 185546400.0\n",
      "\n",
      "Overall impressions Liberal:\n",
      "impressions Lower Bound: 95521000.0\n",
      "impressions Upper Bound: 119390398.0\n",
      "\n",
      "Overall impressions Greens:\n",
      "impressions Lower Bound: 9210000.0\n",
      "impressions Upper Bound: 10638840.0\n"
     ]
    },
    {
     "name": "stderr",
     "output_type": "stream",
     "text": [
      "                                                                                \r"
     ]
    }
   ],
   "source": [
    "#Calculate the impressions for each party with lower_bound and upper_bound\n",
    "\n",
    "# Replace None values with 0 before summing\n",
    "labor_df = labor_df.withColumn(\"impressions_lower_bound\", when(col(\"impressions.lower_bound\").isNull(), 0).otherwise(col(\"impressions.lower_bound\")))\n",
    "labor_df = labor_df.withColumn(\"impressions_upper_bound\", when(col(\"impressions.upper_bound\").isNull(), 0).otherwise(col(\"impressions.upper_bound\")))\n",
    "liberal_df = liberal_df.withColumn(\"impressions_lower_bound\", when(col(\"impressions.lower_bound\").isNull(), 0).otherwise(col(\"impressions.lower_bound\")))\n",
    "liberal_df = liberal_df.withColumn(\"impressions_upper_bound\", when(col(\"impressions.upper_bound\").isNull(), 0).otherwise(col(\"impressions.upper_bound\")))\n",
    "greens_df = greens_df.withColumn(\"impressions_lower_bound\", when(col(\"impressions.lower_bound\").isNull(), 0).otherwise(col(\"impressions.lower_bound\")))\n",
    "greens_df = greens_df.withColumn(\"impressions_upper_bound\", when(col(\"impressions.upper_bound\").isNull(), 0).otherwise(col(\"impressions.upper_bound\")))\n",
    "\n",
    "# Calculate the sum of lower_bound and upper_bound values\n",
    "labor_impressions_lower = labor_df.selectExpr(\"sum(CAST(impressions_lower_bound AS FLOAT)) AS impressions_lower_bound\").collect()[0][\"impressions_lower_bound\"]\n",
    "labor_impressions_upper = labor_df.selectExpr(\"sum(CAST(impressions_upper_bound AS FLOAT)) AS impressions_upper_bound\").collect()[0][\"impressions_upper_bound\"]\n",
    "liberal_impressions_lower = liberal_df.selectExpr(\"sum(CAST(impressions_lower_bound AS FLOAT)) AS impressions_lower_bound\").collect()[0][\"impressions_lower_bound\"]\n",
    "liberal_impressions_upper = liberal_df.selectExpr(\"sum(CAST(impressions_upper_bound AS FLOAT)) AS impressions_upper_bound\").collect()[0][\"impressions_upper_bound\"]\n",
    "greens_impressions_lower = greens_df.selectExpr(\"sum(CAST(impressions_lower_bound AS FLOAT)) AS impressions_lower_bound\").collect()[0][\"impressions_lower_bound\"]\n",
    "greens_impressions_upper = greens_df.selectExpr(\"sum(CAST(impressions_upper_bound AS FLOAT)) AS impressions_upper_bound\").collect()[0][\"impressions_upper_bound\"]\n",
    "\n",
    "print(\"Overall impressions Labor:\")\n",
    "print(f\"impressions Lower Bound: {labor_impressions_lower}\")\n",
    "print(f\"impressions Upper Bound: {labor_impressions_upper}\")\n",
    "print(\"\\nOverall impressions Liberal:\")\n",
    "print(f\"impressions Lower Bound: {liberal_impressions_lower}\")\n",
    "print(f\"impressions Upper Bound: {liberal_impressions_upper}\")\n",
    "print(\"\\nOverall impressions Greens:\")\n",
    "print(f\"impressions Lower Bound: {greens_impressions_lower}\")\n",
    "print(f\"impressions Upper Bound: {greens_impressions_upper}\")"
   ]
  },
  {
   "cell_type": "code",
   "execution_count": 19,
   "id": "4a9c1ce5-eb4a-4483-932b-549a1081259d",
   "metadata": {
    "scrolled": true
   },
   "outputs": [
    {
     "name": "stderr",
     "output_type": "stream",
     "text": [
      "                                                                                \r"
     ]
    },
    {
     "name": "stdout",
     "output_type": "stream",
     "text": [
      "Labor Party\n"
     ]
    },
    {
     "name": "stderr",
     "output_type": "stream",
     "text": [
      "                                                                                \r"
     ]
    },
    {
     "name": "stdout",
     "output_type": "stream",
     "text": [
      "+--------------------+------------------+------------------+\n",
      "|              region|  total_percentage|        proportion|\n",
      "+--------------------+------------------+------------------+\n",
      "|  Northern Territory|113.11242304970074|0.7747426236280872|\n",
      "|     South Australia|1344.4202780084306| 9.208358068550893|\n",
      "|   Western Australia|1465.4811839285549|10.037542355675033|\n",
      "|            Victoria| 2867.446322432081|19.640043304329325|\n",
      "|     New South Wales|2657.3622772133076|18.201111487762383|\n",
      "|Australian Capita...| 334.2918860398281|2.2896704523275897|\n",
      "|            Tasmania| 587.7287128186676| 4.025539128894984|\n",
      "|          Queensland| 4175.002119854453|28.595904930509953|\n",
      "+--------------------+------------------+------------------+\n",
      "\n",
      "\n",
      "Liberal Party\n"
     ]
    },
    {
     "name": "stderr",
     "output_type": "stream",
     "text": [
      "                                                                                \r"
     ]
    },
    {
     "name": "stdout",
     "output_type": "stream",
     "text": [
      "+--------------------+------------------+-------------------+\n",
      "|              region|  total_percentage|         proportion|\n",
      "+--------------------+------------------+-------------------+\n",
      "|  Northern Territory| 44.06346596474759|0.45885104618085587|\n",
      "|     South Australia| 759.1094859251316|  7.904920190827154|\n",
      "|            Victoria|3133.5546965048316|   32.6309975685185|\n",
      "|   Western Australia| 979.5935225816338| 10.200911408743453|\n",
      "|     New South Wales|1346.9372750538137| 14.026213423449063|\n",
      "|Australian Capita...|334.48254107577304| 3.4831046659978453|\n",
      "|            Tasmania| 540.1817690333592|  5.625135572564399|\n",
      "|          Queensland|1560.9603261929942|  16.25492373417676|\n",
      "+--------------------+------------------+-------------------+\n",
      "\n",
      "\n",
      "Greens Party\n"
     ]
    },
    {
     "name": "stderr",
     "output_type": "stream",
     "text": [
      "[Stage 403:>                                                        (0 + 1) / 1]\r"
     ]
    },
    {
     "name": "stdout",
     "output_type": "stream",
     "text": [
      "+--------------------+------------------+--------------------+\n",
      "|              region|  total_percentage|          proportion|\n",
      "+--------------------+------------------+--------------------+\n",
      "|     South Australia| 175.6051660552621|  15.138376384074318|\n",
      "|   Western Australia|326.58107901737094|   28.15354129460094|\n",
      "|            Victoria| 401.8130439966917|   34.63905551695618|\n",
      "|            Tasmania|189.62273600697517|  16.346787586808205|\n",
      "|  Northern Territory|0.6769910037983209|0.058361293430889735|\n",
      "|     New South Wales|16.067166937122238|   1.385100598027779|\n",
      "|Australian Capita...|3.9232009779661894| 0.33820698085915424|\n",
      "|          Queensland| 8.678931005299091|    0.74818370735337|\n",
      "+--------------------+------------------+--------------------+\n",
      "\n"
     ]
    },
    {
     "name": "stderr",
     "output_type": "stream",
     "text": [
      "                                                                                \r"
     ]
    }
   ],
   "source": [
    "# Calculate the region distribution in Australia for each party\n",
    "\n",
    "# List of desired regions\n",
    "desired_regions = ['Northern Territory', 'South Australia', 'Victoria', 'Western Australia', 'New South Wales', 'Tasmania', 'Queensland',\n",
    "                   'Australian Capital Territory']\n",
    "\n",
    "# Explode the array column 'region_distribution' and select the 'percentage' and 'region'\n",
    "labor_exploded_df = labor_df.select(explode('region_distribution').alias('region_info')).select(col('region_info.percentage').cast('float').alias('percentage'), col('region_info.region'))\n",
    "liberal_exploded_df = liberal_df.select(explode('region_distribution').alias('region_info')).select(col('region_info.percentage').cast('float').alias('percentage'), col('region_info.region'))\n",
    "greens_exploded_df = greens_df.select(explode('region_distribution').alias('region_info')).select(col('region_info.percentage').cast('float').alias('percentage'), col('region_info.region'))\n",
    "\n",
    "# Group by 'region' and calculate the sum of 'percentage' for each region\n",
    "labor_region_sum_df = labor_exploded_df.groupBy('region').sum('percentage').withColumnRenamed('sum(percentage)', 'total_percentage')\n",
    "labor_region_sum_df = labor_region_sum_df.filter(col('region').isin(desired_regions))\n",
    "liberal_region_sum_df = liberal_exploded_df.groupBy('region').sum('percentage').withColumnRenamed('sum(percentage)', 'total_percentage')\n",
    "liberal_region_sum_df = liberal_region_sum_df.filter(col('region').isin(desired_regions))\n",
    "greens_region_sum_df = greens_exploded_df.groupBy('region').sum('percentage').withColumnRenamed('sum(percentage)', 'total_percentage')\n",
    "greens_region_sum_df = greens_region_sum_df.filter(col('region').isin(desired_regions))\n",
    "\n",
    "# Calculate proportions\n",
    "labor_total_records = labor_df.count()\n",
    "labor_region_sum_df = labor_region_sum_df.withColumn('proportion', (col('total_percentage') / labor_total_records) * 100)\n",
    "liberal_total_records = liberal_df.count()\n",
    "liberal_region_sum_df = liberal_region_sum_df.withColumn('proportion', (col('total_percentage') / liberal_total_records) * 100)\n",
    "greens_total_records = greens_df.count()\n",
    "greens_region_sum_df = greens_region_sum_df.withColumn('proportion', (col('total_percentage') / greens_total_records) * 100)\n",
    "\n",
    "# Show the result\n",
    "print(\"Labor Party\")\n",
    "labor_region_sum_df.show()\n",
    "print(\"\\nLiberal Party\")\n",
    "liberal_region_sum_df.show()\n",
    "print(\"\\nGreens Party\")\n",
    "greens_region_sum_df.show()"
   ]
  },
  {
   "cell_type": "code",
   "execution_count": 20,
   "id": "1524478e-f58c-4b60-b129-aa523065133c",
   "metadata": {
    "scrolled": true
   },
   "outputs": [
    {
     "name": "stderr",
     "output_type": "stream",
     "text": [
      "                                                                                \r"
     ]
    },
    {
     "name": "stdout",
     "output_type": "stream",
     "text": [
      "Labor Party\n"
     ]
    },
    {
     "name": "stderr",
     "output_type": "stream",
     "text": [
      "                                                                                \r"
     ]
    },
    {
     "name": "stdout",
     "output_type": "stream",
     "text": [
      "+-------+-------------------+--------------------+\n",
      "|    age|     age_percentage|          proportion|\n",
      "+-------+-------------------+--------------------+\n",
      "|  45-54| 1866.0515291968186|  12.781174857512456|\n",
      "|  13-17|  30.83838291329039|  0.2112218007759616|\n",
      "|  55-64| 1606.2959688738447|   11.00202718406743|\n",
      "|  35-44|  2535.185001647318|   17.36428083320081|\n",
      "|  25-34| 3313.2889317251393|   22.69375980633657|\n",
      "|    65+| 1449.7863172444486|   9.930043268797593|\n",
      "|  18-24| 2708.5463623627857|  18.551687413443737|\n",
      "|Unknown|0.00802700001258927|5.497945214102239E-5|\n",
      "+-------+-------------------+--------------------+\n",
      "\n"
     ]
    },
    {
     "name": "stderr",
     "output_type": "stream",
     "text": [
      "                                                                                \r"
     ]
    },
    {
     "name": "stdout",
     "output_type": "stream",
     "text": [
      "+-------+-----------------+------------------+\n",
      "| gender|gender_percentage|        proportion|\n",
      "+-------+-----------------+------------------+\n",
      "|unknown|166.7748008788708|1.1422931567045944|\n",
      "| female|6858.918190209606|46.978891713764426|\n",
      "|   male|6548.307559650553|44.851421641442144|\n",
      "+-------+-----------------+------------------+\n",
      "\n",
      "\n",
      "Liberal Party\n"
     ]
    },
    {
     "name": "stderr",
     "output_type": "stream",
     "text": [
      "                                                                                \r"
     ]
    },
    {
     "name": "stdout",
     "output_type": "stream",
     "text": [
      "+-------+--------------------+--------------------+\n",
      "|    age|      age_percentage|          proportion|\n",
      "+-------+--------------------+--------------------+\n",
      "|  45-54|  1311.6163566909236|  13.658402131531016|\n",
      "|  13-17|  39.440139949254444|  0.4107064453738878|\n",
      "|  55-64|  1154.6107796319975|  12.023438296698922|\n",
      "|  35-44|  1571.2729201269976|  16.362313028501486|\n",
      "|  25-34|  1874.8247922662304|  19.523323880727173|\n",
      "|    65+|   1300.238342038674|    13.5399181718075|\n",
      "|  18-24|   1408.975083311594|  14.672238709898927|\n",
      "|Unknown|0.021722999939811416|2.262105585734813...|\n",
      "+-------+--------------------+--------------------+\n",
      "\n"
     ]
    },
    {
     "name": "stderr",
     "output_type": "stream",
     "text": [
      "                                                                                \r"
     ]
    },
    {
     "name": "stdout",
     "output_type": "stream",
     "text": [
      "+-------+------------------+------------------+\n",
      "| gender| gender_percentage|        proportion|\n",
      "+-------+------------------+------------------+\n",
      "|unknown| 95.66903797092482|0.9962411535033303|\n",
      "| female|3911.1189245221135|40.728094600875906|\n",
      "|   male| 4606.212220088084| 47.96638779639784|\n",
      "+-------+------------------+------------------+\n",
      "\n",
      "\n",
      "Greens Party\n"
     ]
    },
    {
     "name": "stderr",
     "output_type": "stream",
     "text": [
      "                                                                                \r"
     ]
    },
    {
     "name": "stdout",
     "output_type": "stream",
     "text": [
      "+-------+--------------------+--------------------+\n",
      "|    age|      age_percentage|          proportion|\n",
      "+-------+--------------------+--------------------+\n",
      "|  45-54|  131.91149296266667|  11.371680427816093|\n",
      "|  55-64|  113.35750110263325|    9.77219837091666|\n",
      "|  35-44|   171.2055008074094|  14.759094897190467|\n",
      "|  25-34|    329.717569674307|   28.42392842019888|\n",
      "|    65+|  107.28985791302694|   9.249125682157494|\n",
      "|  18-24|  269.38650195644004|   23.22297430658966|\n",
      "|  13-17|   5.119106026932059| 0.44130224370103954|\n",
      "|Unknown|0.012471999856643379|0.001075172401434774|\n",
      "+-------+--------------------+--------------------+\n",
      "\n"
     ]
    },
    {
     "name": "stderr",
     "output_type": "stream",
     "text": [
      "[Stage 489:===============================================>    (184 + 16) / 200]\r"
     ]
    },
    {
     "name": "stdout",
     "output_type": "stream",
     "text": [
      "+-------+-----------------+-----------------+\n",
      "| gender|gender_percentage|       proportion|\n",
      "+-------+-----------------+-----------------+\n",
      "|unknown|16.34415897983854|1.408979222399874|\n",
      "| female|591.9781848493585|51.03260214218608|\n",
      "|   male|519.6776457217366|44.79979704497729|\n",
      "+-------+-----------------+-----------------+\n",
      "\n"
     ]
    },
    {
     "name": "stderr",
     "output_type": "stream",
     "text": [
      "                                                                                \r"
     ]
    }
   ],
   "source": [
    "# Calculate demographic distribution percentages for each party:\n",
    "\n",
    "# Explode the demographic_distribution array column\n",
    "exploded_df_labor = labor_df.select(explode('demographic_distribution').alias('demographic_info')).select(col('demographic_info.percentage').cast('float').alias('percentage'), col('demographic_info.age'), col('demographic_info.gender'))\n",
    "exploded_df_liberal = liberal_df.select(explode('demographic_distribution').alias('demographic_info')).select(col('demographic_info.percentage').cast('float').alias('percentage'), col('demographic_info.age'), col('demographic_info.gender'))\n",
    "exploded_df_greens = greens_df.select(explode('demographic_distribution').alias('demographic_info')).select(col('demographic_info.percentage').cast('float').alias('percentage'), col('demographic_info.age'), col('demographic_info.gender'))\n",
    "\n",
    "# Group by 'region' and calculate the sum of 'percentage' for each region\n",
    "labor_age_sum_df = exploded_df_labor.groupBy('age').sum('percentage').withColumnRenamed('sum(percentage)', 'age_percentage')\n",
    "labor_gender_sum_df = exploded_df_labor.groupBy('gender').sum('percentage').withColumnRenamed('sum(percentage)', 'gender_percentage')\n",
    "liberal_age_sum_df = exploded_df_liberal.groupBy('age').sum('percentage').withColumnRenamed('sum(percentage)', 'age_percentage')\n",
    "liberal_gender_sum_df = exploded_df_liberal.groupBy('gender').sum('percentage').withColumnRenamed('sum(percentage)', 'gender_percentage')\n",
    "greens_age_sum_df = exploded_df_greens.groupBy('age').sum('percentage').withColumnRenamed('sum(percentage)', 'age_percentage')\n",
    "greens_gender_sum_df = exploded_df_greens.groupBy('gender').sum('percentage').withColumnRenamed('sum(percentage)', 'gender_percentage')\n",
    "\n",
    "# Calculate proportions\n",
    "labor_total_records = labor_df.count()\n",
    "labor_age_sum_df = labor_age_sum_df.withColumn('proportion', (col('age_percentage') / labor_total_records) * 100)\n",
    "labor_gender_sum_df = labor_gender_sum_df.withColumn('proportion', (col('gender_percentage') / labor_total_records) * 100)\n",
    "liberal_total_records = liberal_df.count()\n",
    "liberal_age_sum_df = liberal_age_sum_df.withColumn('proportion', (col('age_percentage') / liberal_total_records) * 100)\n",
    "liberal_gender_sum_df = liberal_gender_sum_df.withColumn('proportion', (col('gender_percentage') / liberal_total_records) * 100)\n",
    "greens_total_records = greens_df.count()\n",
    "greens_age_sum_df = greens_age_sum_df.withColumn('proportion', (col('age_percentage') / greens_total_records) * 100)\n",
    "greens_gender_sum_df = greens_gender_sum_df.withColumn('proportion', (col('gender_percentage') / greens_total_records) * 100)\n",
    "\n",
    "# Show the result\n",
    "print(\"Labor Party\")\n",
    "labor_age_sum_df.show()\n",
    "labor_gender_sum_df.show()\n",
    "print(\"\\nLiberal Party\")\n",
    "liberal_age_sum_df.show()\n",
    "liberal_gender_sum_df.show()\n",
    "print(\"\\nGreens Party\")\n",
    "greens_age_sum_df.show()\n",
    "greens_gender_sum_df.show()"
   ]
  },
  {
   "cell_type": "code",
   "execution_count": 21,
   "id": "8ada8b8e-bd5f-4a14-9428-9196dd7e40e9",
   "metadata": {},
   "outputs": [
    {
     "name": "stderr",
     "output_type": "stream",
     "text": [
      "24/05/17 09:49:07 WARN DAGScheduler: Broadcasting large task binary with size 1804.3 KiB\n",
      "24/05/17 09:51:25 WARN DAGScheduler: Broadcasting large task binary with size 1804.3 KiB\n",
      "24/05/17 09:53:27 WARN DAGScheduler: Broadcasting large task binary with size 1804.3 KiB\n",
      "24/05/17 09:54:58 WARN DAGScheduler: Broadcasting large task binary with size 1144.6 KiB\n",
      "24/05/17 09:55:04 WARN DAGScheduler: Broadcasting large task binary with size 1144.4 KiB\n",
      "24/05/17 09:55:08 WARN DAGScheduler: Broadcasting large task binary with size 1145.3 KiB\n",
      "[Stage 513:====================================================>(198 + 2) / 200]\r"
     ]
    },
    {
     "name": "stdout",
     "output_type": "stream",
     "text": [
      "\n",
      "Labor Party:\n",
      "labor: 9056\n",
      "morrison: 6280\n",
      "plan: 5497\n",
      "government: 4169\n",
      "vote: 3862\n",
      "scott: 3784\n",
      "jobs: 3187\n",
      "future: 3044\n",
      "medicare: 2333\n",
      "local: 2213\n",
      "australians: 2100\n",
      "australia: 2047\n",
      "alporgau: 2022\n",
      "community: 1953\n",
      "election: 1946\n",
      "labors: 1747\n",
      "health: 1540\n",
      "australian: 1536\n",
      "support: 1478\n",
      "federal: 1387\n",
      "queensland: 1340\n",
      "cheaper: 1283\n",
      "pay: 1257\n",
      "labor’s: 1218\n",
      "state: 1141\n",
      "bennelong: 1129\n",
      "cut: 1064\n",
      "child: 1059\n",
      "build: 1054\n",
      "workers: 1052\n",
      "nomoremorrisoncom: 1044\n",
      "covid19: 1041\n",
      "good: 1019\n",
      "people: 1014\n",
      "deliver: 996\n",
      "it’s: 996\n",
      "families: 985\n",
      "risk: 981\n",
      "lnp: 936\n",
      "secure: 898\n",
      "economic: 867\n",
      "work: 861\n",
      "follow: 842\n",
      "job: 825\n",
      "facebookcom: 823\n",
      "right: 823\n",
      "liberals: 794\n",
      "million: 788\n",
      "create: 781\n",
      "power: 776\n",
      "\n",
      "Liberal Party:\n",
      "liberal: 4327\n",
      "labor: 4049\n",
      "australia: 3444\n",
      "plan: 2848\n",
      "government: 2609\n",
      "party: 2260\n",
      "economy: 2091\n",
      "stronger: 1735\n",
      "local: 1699\n",
      "vote: 1600\n",
      "community: 1564\n",
      "future: 1563\n",
      "risk: 1500\n",
      "australians: 1311\n",
      "election: 1237\n",
      "higher: 1235\n",
      "can’t: 1177\n",
      "democrats: 1138\n",
      "jobs: 1108\n",
      "times: 1096\n",
      "read: 1088\n",
      "support: 1075\n",
      "page: 1010\n",
      "recovery: 1007\n",
      "uncertain: 1006\n",
      "state: 1001\n",
      "health: 990\n",
      "people: 937\n",
      "real: 903\n",
      "australias: 899\n",
      "leadership: 899\n",
      "australian: 896\n",
      "business: 873\n",
      "victorians: 870\n",
      "dont: 867\n",
      "weak: 842\n",
      "morrison: 831\n",
      "liberalorgau: 814\n",
      "parliament: 809\n",
      "queensland: 806\n",
      "albanese: 795\n",
      "noteasyalbanesecom: 790\n",
      "andrews: 786\n",
      "cant: 772\n",
      "deliver: 768\n",
      "i’m: 756\n",
      "wa: 756\n",
      "liberals: 737\n",
      "facebookcom: 713\n",
      "small: 711\n",
      "\n",
      "Greens Party:\n",
      "greens: 1254\n",
      "vote: 1237\n",
      "climate: 1080\n",
      "future: 647\n",
      "crisis: 428\n",
      "clean: 396\n",
      "greensorgau: 380\n",
      "green: 360\n",
      "forests: 357\n",
      "labor: 326\n",
      "change: 318\n",
      "native: 313\n",
      "renewable: 299\n",
      "environment: 288\n",
      "plan: 286\n",
      "people: 270\n",
      "energy: 265\n",
      "economy: 263\n",
      "parliament: 263\n",
      "👉: 253\n",
      "landscapes: 252\n",
      "wildlife: 244\n",
      "wild: 221\n",
      "world: 220\n",
      "election: 219\n",
      "carbon: 214\n",
      "gas: 212\n",
      "places: 210\n",
      "big: 209\n",
      "air: 205\n",
      "ahead: 204\n",
      "protected: 202\n",
      "heritage: 201\n",
      "water: 201\n",
      "wilderness: 201\n",
      "community: 200\n",
      "tasmania: 200\n",
      "abundant: 198\n",
      "benefiting: 198\n",
      "island: 198\n",
      "netzero: 198\n",
      "remarkable: 198\n",
      "government: 194\n",
      "rainforests: 188\n",
      "coal: 182\n",
      "industry: 175\n",
      "protect: 175\n",
      "jobs: 173\n",
      "volunteer: 161\n",
      "local: 158\n"
     ]
    },
    {
     "name": "stderr",
     "output_type": "stream",
     "text": [
      "                                                                                \r"
     ]
    }
   ],
   "source": [
    "# Calculte the most focussed topics by each party in their ads\n",
    "\n",
    "def preprocess_text(text):\n",
    "    # Convert to lowercase\n",
    "    text = text.lower()\n",
    "    \n",
    "    # Remove punctuations\n",
    "    text = re.sub(r'[{}]'.format(string.punctuation), '', text)\n",
    "    \n",
    "    # Remove prepositions and common words\n",
    "    common_words = [\"i\", \"me\", \"my\", \"myself\", \"we\", \"our\", \"ours\", \"ourselves\", \"you\", \"you're\", \"you've\", \"you'll\", \"you'd\", \"your\",\n",
    "                    \"yours\", \"yourself\", \"yourselves\", \"he\", \"him\", \"his\", \"himself\", \"she\", \"she's\", \"her\", \"hers\", \"herself\", \"it\",\n",
    "                    \"it's\", \"its\", \"itself\", \"they\", \"them\", \"their\", \"theirs\", \"themselves\", \"what\", \"which\", \"who\", \"whom\", \"this\",\n",
    "                    \"that\", \"that'll\", \"these\", \"those\", \"am\", \"is\", \"are\", \"was\", \"were\", \"be\", \"been\", \"being\", \"have\", \"has\", \"had\",\n",
    "                    \"having\", \"do\", \"does\", \"did\", \"doing\", \"a\", \"an\", \"the\", \"and\", \"but\", \"if\", \"or\", \"because\", \"as\", \"until\", \"while\",\n",
    "                    \"of\", \"at\", \"by\", \"for\", \"with\", \"about\", \"against\", \"between\", \"into\", \"through\", \"during\", \"before\", \"after\", \"above\",\n",
    "                    \"below\", \"to\", \"from\", \"up\", \"down\", \"in\", \"out\", \"on\", \"off\", \"over\", \"under\", \"again\", \"further\", \"then\", \"once\", \"here\",\n",
    "                    \"there\", \"when\", \"where\", \"why\", \"how\", \"all\", \"any\", \"both\", \"each\", \"few\", \"more\", \"most\", \"other\", \"some\", \"such\", \"no\",\n",
    "                    \"nor\", \"not\", \"only\", \"own\", \"same\", \"so\", \"than\", \"too\", \"very\", \"s\", \"t\", \"can\", \"will\", \"just\", \"don\", \"don't\", \"should\",\n",
    "                    \"should've\", \"now\", \"d\", \"ll\", \"m\", \"o\", \"re\", \"ve\", \"y\", \"ain\", \"aren\", \"aren't\", \"couldn\", \"couldn't\", \"didn\", \"didn't\",\n",
    "                    \"doesn\", \"doesn't\", \"hadn\", \"hadn't\", \"hasn\", \"hasn't\", \"haven\", \"haven't\", \"isn\", \"isn't\", \"ma\", \"mightn\", \"mightn't\",\n",
    "                    \"mustn\", \"mustn't\", \"needn\", \"needn't\", \"shan\", \"shan't\", \"shouldn\", \"shouldn't\", \"wasn\", \"wasn't\", \"weren\", \"weren't\",\n",
    "                    \"won't\", \"wouldn\", \"wouldn't\", \"make\", \"need\", \"new\", \"1\", \"get\", \"better\", \"help\", \"us\",\n",
    "                    \"time\", \"like\", \"care\", \"one\", \"–\", \"que\", \"want\", \"back\", \"today\", \"find\", \"year\", \"years\",\n",
    "                    \"see\", \"action\", \"mp\", \"de\", \"sign\", \"keep\", \"know\", \"take\", \"would\", \"early\", \"ward\", \"strong\", \"first\",\n",
    "                    \"also\", \"every\", \"many\", \"join\", \"✅\", \"day\", \"last\", \"could\"]\n",
    "    \n",
    "    text = ' '.join(word for word in text.split() if word not in common_words)\n",
    "    \n",
    "    return text\n",
    "\n",
    "def get_combined_text(row):\n",
    "    text = \"\"\n",
    "    for column in ['ad_creative_body', 'ad_creative_link_caption', 'ad_creative_link_description', 'ad_creative_link_title']:\n",
    "        if row[column]:\n",
    "            text += preprocess_text(row[column]) + \" \"\n",
    "    \n",
    "    for column in ['ad_creative_bodies', 'ad_creative_link_captions', 'ad_creative_link_descriptions', 'ad_creative_link_titles']:\n",
    "        if row[column]:\n",
    "            text += \" \".join(preprocess_text(item) for item in row[column]) + \" \"\n",
    "    \n",
    "    return text.strip()\n",
    "\n",
    "# Combine text from all relevant columns\n",
    "combined_text_labor = labor_df.rdd.map(get_combined_text).filter(lambda x: x)\n",
    "combined_text_liberal = liberal_df.rdd.map(get_combined_text).filter(lambda x: x)\n",
    "combined_text_greens = greens_df.rdd.map(get_combined_text).filter(lambda x: x)\n",
    "\n",
    "# Count word frequencies\n",
    "word_counts_labor = combined_text_labor.flatMap(lambda text: text.split()).map(lambda word: (word, 1)).reduceByKey(lambda a, b: a + b)\n",
    "word_counts_liberal = combined_text_liberal.flatMap(lambda text: text.split()).map(lambda word: (word, 1)).reduceByKey(lambda a, b: a + b)\n",
    "word_counts_greens = combined_text_greens.flatMap(lambda text: text.split()).map(lambda word: (word, 1)).reduceByKey(lambda a, b: a + b)\n",
    "\n",
    "# Get the top 50 words\n",
    "top_words_labor = word_counts_labor.takeOrdered(50, key=lambda x: (-x[1], x[0]))\n",
    "top_words_liberal = word_counts_liberal.takeOrdered(50, key=lambda x: (-x[1], x[0]))\n",
    "top_words_greens = word_counts_greens.takeOrdered(50, key=lambda x: (-x[1], x[0]))\n",
    "\n",
    "# Print the top 50 words\n",
    "print(\"\\nLabor Party:\")\n",
    "for word, count in top_words_labor:\n",
    "    print(f\"{word}: {count}\")\n",
    "print(\"\\nLiberal Party:\")\n",
    "for word, count in top_words_liberal:\n",
    "    print(f\"{word}: {count}\")\n",
    "print(\"\\nGreens Party:\")\n",
    "for word, count in top_words_greens:\n",
    "    print(f\"{word}: {count}\")"
   ]
  },
  {
   "cell_type": "code",
   "execution_count": 23,
   "id": "3cab303f-13b1-4e92-baae-a2001b5787be",
   "metadata": {},
   "outputs": [],
   "source": [
    "# Stop the spark session\n",
    "\n",
    "#spark_session.stop()"
   ]
  },
  {
   "cell_type": "code",
   "execution_count": null,
   "id": "81f9281f-c1c9-4752-a35c-dc10807eb081",
   "metadata": {},
   "outputs": [],
   "source": []
  }
 ],
 "metadata": {
  "kernelspec": {
   "display_name": "PySpark",
   "language": "python",
   "name": "pyspark"
  },
  "language_info": {
   "codemirror_mode": {
    "name": "ipython",
    "version": 3
   },
   "file_extension": ".py",
   "mimetype": "text/x-python",
   "name": "python",
   "nbconvert_exporter": "python",
   "pygments_lexer": "ipython3",
   "version": "3.10.13"
  }
 },
 "nbformat": 4,
 "nbformat_minor": 5
}
